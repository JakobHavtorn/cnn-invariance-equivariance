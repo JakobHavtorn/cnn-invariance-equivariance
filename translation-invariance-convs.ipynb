{
 "cells": [
  {
   "cell_type": "code",
   "execution_count": 1,
   "metadata": {},
   "outputs": [],
   "source": [
    "import copy\n",
    "\n",
    "from tqdm import tqdm\n",
    "\n",
    "import matplotlib.pyplot as plt\n",
    "import numpy as np\n",
    "import torch\n",
    "import torch.nn as nn\n",
    "import torch.nn.functional as F\n",
    "import torch.optim as optim\n",
    "import torch.nn.init as init\n",
    "import torchvision\n",
    "import torchvision.datasets"
   ]
  },
  {
   "cell_type": "code",
   "execution_count": 2,
   "metadata": {},
   "outputs": [],
   "source": [
    "# Switch GPU availability\n",
    "device = 'cuda' if torch.cuda.is_available() else 'cpu'"
   ]
  },
  {
   "cell_type": "markdown",
   "metadata": {},
   "source": [
    "# Translational equivariance and invariance in neural networks"
   ]
  },
  {
   "cell_type": "markdown",
   "metadata": {},
   "source": [
    "## Setup datasets"
   ]
  },
  {
   "cell_type": "code",
   "execution_count": 3,
   "metadata": {},
   "outputs": [],
   "source": [
    "# Define dataset\n",
    "train_dataset = torchvision.datasets.MNIST(root='./data', train=True, download=True, transform=torchvision.transforms.Compose([torchvision.transforms.ToTensor()]))\n",
    "test_dataset = torchvision.datasets.MNIST(root='./data', train=False, download=True, transform=torchvision.transforms.Compose([torchvision.transforms.ToTensor()]))\n",
    "\n",
    "# Define data loading\n",
    "train_loader =  torch.utils.data.DataLoader(train_dataset, batch_size=32, shuffle=True, num_workers=1)\n",
    "test_loader =  torch.utils.data.DataLoader(test_dataset, batch_size=32, shuffle=False, num_workers=1)"
   ]
  },
  {
   "cell_type": "markdown",
   "metadata": {},
   "source": [
    "## Define model"
   ]
  },
  {
   "cell_type": "code",
   "execution_count": 4,
   "metadata": {},
   "outputs": [
    {
     "name": "stdout",
     "output_type": "stream",
     "text": [
      "torch.Size([1, 1, 28, 28]) tensor([[0.0919, 0.0873, 0.1174, 0.1063, 0.0944, 0.1134, 0.0984, 0.1049, 0.0865,\n",
      "         0.0995]], grad_fn=<SoftmaxBackward>) 5\n",
      "torch.Size([1, 1, 28, 28]) tensor([[0.1291, 0.1070, 0.1003, 0.1002, 0.1190, 0.1042, 0.0599, 0.0985, 0.0696,\n",
      "         0.1122]], grad_fn=<SoftmaxBackward>) 5\n",
      "torch.Size([1, 1, 28, 28]) tensor([[0.0986, 0.1141, 0.0881, 0.1176, 0.1108, 0.1023, 0.0950, 0.0739, 0.1071,\n",
      "         0.0925]], grad_fn=<SoftmaxBackward>) 5\n"
     ]
    }
   ],
   "source": [
    "kernel_size = 5\n",
    "padding = int(np.floor(kernel_size / 2))\n",
    "channels = 64\n",
    "\n",
    "\n",
    "class _GlobalMaxPoolNd(nn.Module):\n",
    "    def __init__(self, n_dims):\n",
    "        self.n_dims = n_dims\n",
    "        super().__init__()\n",
    "\n",
    "    def forward(self, x):\n",
    "        \"\"\"Max pool over the right-most `self.n_dims` dimensions and remove the resulting identity dimensions\"\"\"\n",
    "        return F.max_pool2d(x, kernel_size=x.shape[-self.n_dims:]).view(x.shape[:self.n_dims])\n",
    "    \n",
    "    def __repr__(self):\n",
    "        return f'GlobalMaxPool{self.n_dims}d'\n",
    "\n",
    "\n",
    "class GlobalMaxPool2d(_GlobalMaxPoolNd):\n",
    "    \"\"\"Module that applies max pooling globally by having a kernel of the same size as the input\n",
    "    \n",
    "    Inputs:\n",
    "        x (torch.Tensor): Tensor of shape [B, Cin, H, W]\n",
    "        \n",
    "    Outputs:\n",
    "        torch.Tensor: Tensor of shape [B, Cin] where max pooling was applied over H and W\n",
    "    \"\"\"\n",
    "    def __init__(self):\n",
    "        super().__init__(n_dims=2)\n",
    "\n",
    "\n",
    "# Define model\n",
    "class MLP(nn.Module):\n",
    "    def __init__(self):\n",
    "        super().__init__()\n",
    "\n",
    "        self.linear_1 = nn.Linear(28*28, 64)\n",
    "        self.linear_2 = nn.Linear(64, 32)\n",
    "        self.linear_3 = nn.Linear(32, 10)\n",
    "\n",
    "        self.relu1 = nn.ReLU()\n",
    "        self.relu2 = nn.ReLU()\n",
    "        self.softmax = nn.Softmax(dim=-1)\n",
    "        \n",
    "    def layer1(self, x):\n",
    "        x = x.view(-1, 28*28)\n",
    "        x = self.linear_1(x)\n",
    "        x = self.relu1(x)\n",
    "        return x\n",
    "    \n",
    "    def layer2(self, x):\n",
    "        x = x.view(-1, 28*28)\n",
    "        x = self.linear_1(x)\n",
    "        x = self.relu1(x)\n",
    "        x = self.linear_2(x)\n",
    "        x = self.relu2(x)\n",
    "        return x\n",
    "\n",
    "    def forward(self, x):\n",
    "        x = x.view(-1, 28*28)\n",
    "        x = self.linear_1(x)\n",
    "        x = self.relu1(x)\n",
    "        x = self.linear_2(x)\n",
    "        x = self.relu2(x)\n",
    "        x = self.linear_3(x)\n",
    "        return self.softmax(x)\n",
    "\n",
    "\n",
    "class GlobalPoolCNN(nn.Module):\n",
    "    def __init__(self):\n",
    "        super().__init__()\n",
    "\n",
    "        self.conv1 = nn.Conv2d(in_channels=1, out_channels=channels, kernel_size=kernel_size, padding=padding)\n",
    "        self.max_pool = GlobalMaxPool2d()\n",
    "        self.linear1 = nn.Linear(channels, 10)\n",
    "\n",
    "        self.relu1 = nn.ReLU()\n",
    "        self.relu2 = nn.ReLU()\n",
    "        self.softmax = nn.Softmax(dim=-1)\n",
    "    \n",
    "    def max_pool_layer(self, x):\n",
    "        x = self.conv1(x)\n",
    "        x = self.relu1(x)\n",
    "        x = self.max_pool(x)\n",
    "        return x\n",
    "\n",
    "    def forward(self, x):\n",
    "        x = self.conv1(x)\n",
    "        x = self.relu1(x)\n",
    "        x = self.max_pool(x)\n",
    "        x = self.linear1(x)\n",
    "        return self.softmax(x)\n",
    "\n",
    "\n",
    "class LocalPoolCNN(nn.Module):\n",
    "    def __init__(self):\n",
    "        super().__init__()\n",
    "\n",
    "        self.conv1 = nn.Conv2d(in_channels=1, out_channels=channels, kernel_size=kernel_size, padding=padding)\n",
    "        self.max_pool = nn.MaxPool2d(kernel_size=kernel_size, padding=padding, stride=2)\n",
    "        \n",
    "        self.max_pool_out = 28 / 2\n",
    "        self.linear1_in = int(channels * 28/2 * 28/2)\n",
    "        \n",
    "        self.linear1 = nn.Linear(self.linear1_in, 10)\n",
    "\n",
    "        self.relu1 = nn.ReLU()\n",
    "        self.relu2 = nn.ReLU()\n",
    "        self.softmax = nn.Softmax(dim=-1)\n",
    "    \n",
    "    def max_pool_layer(self, x):\n",
    "        x = self.conv1(x)\n",
    "        x = self.relu1(x)\n",
    "        x = self.max_pool(x)\n",
    "        return x\n",
    "\n",
    "    def forward(self, x):\n",
    "        x = self.conv1(x)\n",
    "        x = self.relu1(x)\n",
    "        x = self.max_pool(x)\n",
    "        x = x.view(-1, self.linear1_in)\n",
    "        x = self.linear1(x)\n",
    "        return self.softmax(x)\n",
    "    \n",
    "\n",
    "# Test the model\n",
    "x, y = train_dataset[0]\n",
    "\n",
    "x = x.view(1, 1, 28, 28)\n",
    "\n",
    "model_mlp = MLP()\n",
    "yhat = model_mlp(x)\n",
    "print(x.shape, yhat, y)\n",
    "\n",
    "model_gcnn = GlobalPoolCNN()\n",
    "yhat = model_gcnn(x)\n",
    "print(x.shape, yhat, y)\n",
    "\n",
    "model_lcnn = LocalPoolCNN()\n",
    "yhat = model_lcnn(x)\n",
    "print(x.shape, yhat, y)"
   ]
  },
  {
   "cell_type": "markdown",
   "metadata": {},
   "source": [
    "### Outline\n",
    "\n",
    "We will evaluate the translation equivariance and invariance of three different models. \n",
    "\n",
    "1. A CNN using a global max-pooling layer to remove spatial information from the input to the final linear classification layer.\n",
    "2. A CNN using a local max-pooling layer which does not remove spatial information.\n",
    "3. A vanilla MLP which is fully connected from the input to the output.\n",
    "\n",
    "We will do the evaluation by computing the outputs and gradient of the output w.r.t. the convolutional kernel (or weight matrix) of the first layer of each model. We will compute the outputs at three points through the models\n",
    "\n",
    "1. Just after the convolution (or the first linear layer for the MLP)\n",
    "2. Just after the max pooling operation (or the sercond linear layer for the MLP)\n",
    "3. Just after the softmax (final output)\n",
    "\n",
    "By inspecting the outputs themselves, we can evaluate the presence of equivariance or invariance. \n",
    "\n",
    "By evaluating the gradients of the output wr.t. the first convolutional kernel we can observe that when the network is translationally equivariant up until the layer used for forward propagation, the gradient of the kernel is the same regardless of translations of the input.\n",
    "\n",
    "\n",
    "To get some non-random kernels, we start by training the model for a bit. This will allow the kernels to become useful. This is not strictly necessary, but brings the example closer to reality.\n",
    "\n",
    "One very important thing that happens when we train the network for a bit is that it, regardless of design, begins to learn translation invariance. This is the case even for the MLP. This makes sense since the network will want to predict class 6 for the number 6 regardless of where it is. However, incorporating this invariance by design yields higher statistical effiency of our training samples."
   ]
  },
  {
   "cell_type": "markdown",
   "metadata": {},
   "source": [
    "# Convolutional model with global pooling"
   ]
  },
  {
   "cell_type": "markdown",
   "metadata": {},
   "source": [
    "## Train"
   ]
  },
  {
   "cell_type": "code",
   "execution_count": 5,
   "metadata": {},
   "outputs": [],
   "source": [
    "# Define model, optimizer and loss\n",
    "model = GlobalPoolCNN()\n",
    "optimizer = optim.Adam(model.parameters(), lr=3e-4)\n",
    "criterion = nn.CrossEntropyLoss()"
   ]
  },
  {
   "cell_type": "code",
   "execution_count": 6,
   "metadata": {},
   "outputs": [
    {
     "data": {
      "text/plain": [
       "CrossEntropyLoss()"
      ]
     },
     "execution_count": 6,
     "metadata": {},
     "output_type": "execute_result"
    }
   ],
   "source": [
    "model.to(device)\n",
    "criterion.to(device)"
   ]
  },
  {
   "cell_type": "code",
   "execution_count": 7,
   "metadata": {},
   "outputs": [
    {
     "name": "stderr",
     "output_type": "stream",
     "text": [
      "100%|██████████| 1875/1875 [00:11<00:00, 164.65it/s]"
     ]
    },
    {
     "name": "stdout",
     "output_type": "stream",
     "text": [
      "Epoch   0 | Train loss 2.20"
     ]
    },
    {
     "name": "stderr",
     "output_type": "stream",
     "text": [
      "\n",
      "  0%|          | 0/1875 [00:00<?, ?it/s]"
     ]
    },
    {
     "name": "stdout",
     "output_type": "stream",
     "text": [
      " | Test loss 2.08\n"
     ]
    },
    {
     "name": "stderr",
     "output_type": "stream",
     "text": [
      "100%|██████████| 1875/1875 [00:10<00:00, 170.50it/s]"
     ]
    },
    {
     "name": "stdout",
     "output_type": "stream",
     "text": [
      "Epoch   1 | Train loss 2.00"
     ]
    },
    {
     "name": "stderr",
     "output_type": "stream",
     "text": [
      "\n",
      "  0%|          | 0/1875 [00:00<?, ?it/s]"
     ]
    },
    {
     "name": "stdout",
     "output_type": "stream",
     "text": [
      " | Test loss 1.93\n"
     ]
    },
    {
     "name": "stderr",
     "output_type": "stream",
     "text": [
      "100%|██████████| 1875/1875 [00:11<00:00, 168.74it/s]"
     ]
    },
    {
     "name": "stdout",
     "output_type": "stream",
     "text": [
      "Epoch   2 | Train loss 1.89"
     ]
    },
    {
     "name": "stderr",
     "output_type": "stream",
     "text": [
      "\n",
      "  0%|          | 0/1875 [00:00<?, ?it/s]"
     ]
    },
    {
     "name": "stdout",
     "output_type": "stream",
     "text": [
      " | Test loss 1.86\n"
     ]
    },
    {
     "name": "stderr",
     "output_type": "stream",
     "text": [
      "100%|██████████| 1875/1875 [00:10<00:00, 174.84it/s]"
     ]
    },
    {
     "name": "stdout",
     "output_type": "stream",
     "text": [
      "Epoch   3 | Train loss 1.85"
     ]
    },
    {
     "name": "stderr",
     "output_type": "stream",
     "text": [
      "\n",
      "  0%|          | 0/1875 [00:00<?, ?it/s]"
     ]
    },
    {
     "name": "stdout",
     "output_type": "stream",
     "text": [
      " | Test loss 1.84\n"
     ]
    },
    {
     "name": "stderr",
     "output_type": "stream",
     "text": [
      "100%|██████████| 1875/1875 [00:10<00:00, 175.07it/s]"
     ]
    },
    {
     "name": "stdout",
     "output_type": "stream",
     "text": [
      "Epoch   4 | Train loss 1.82"
     ]
    },
    {
     "name": "stderr",
     "output_type": "stream",
     "text": [
      "\n",
      "  0%|          | 0/1875 [00:00<?, ?it/s]"
     ]
    },
    {
     "name": "stdout",
     "output_type": "stream",
     "text": [
      " | Test loss 1.79\n"
     ]
    },
    {
     "name": "stderr",
     "output_type": "stream",
     "text": [
      "100%|██████████| 1875/1875 [00:11<00:00, 165.60it/s]"
     ]
    },
    {
     "name": "stdout",
     "output_type": "stream",
     "text": [
      "Epoch   5 | Train loss 1.76"
     ]
    },
    {
     "name": "stderr",
     "output_type": "stream",
     "text": [
      "\n",
      "  0%|          | 0/1875 [00:00<?, ?it/s]"
     ]
    },
    {
     "name": "stdout",
     "output_type": "stream",
     "text": [
      " | Test loss 1.71\n"
     ]
    },
    {
     "name": "stderr",
     "output_type": "stream",
     "text": [
      "100%|██████████| 1875/1875 [00:11<00:00, 163.79it/s]"
     ]
    },
    {
     "name": "stdout",
     "output_type": "stream",
     "text": [
      "Epoch   6 | Train loss 1.69"
     ]
    },
    {
     "name": "stderr",
     "output_type": "stream",
     "text": [
      "\n",
      "  0%|          | 0/1875 [00:00<?, ?it/s]"
     ]
    },
    {
     "name": "stdout",
     "output_type": "stream",
     "text": [
      " | Test loss 1.68\n"
     ]
    },
    {
     "name": "stderr",
     "output_type": "stream",
     "text": [
      "100%|██████████| 1875/1875 [00:11<00:00, 162.74it/s]"
     ]
    },
    {
     "name": "stdout",
     "output_type": "stream",
     "text": [
      "Epoch   7 | Train loss 1.67"
     ]
    },
    {
     "name": "stderr",
     "output_type": "stream",
     "text": [
      "\n",
      "  0%|          | 0/1875 [00:00<?, ?it/s]"
     ]
    },
    {
     "name": "stdout",
     "output_type": "stream",
     "text": [
      " | Test loss 1.66\n"
     ]
    },
    {
     "name": "stderr",
     "output_type": "stream",
     "text": [
      "100%|██████████| 1875/1875 [00:11<00:00, 166.15it/s]"
     ]
    },
    {
     "name": "stdout",
     "output_type": "stream",
     "text": [
      "Epoch   8 | Train loss 1.66"
     ]
    },
    {
     "name": "stderr",
     "output_type": "stream",
     "text": [
      "\n",
      "  0%|          | 0/1875 [00:00<?, ?it/s]"
     ]
    },
    {
     "name": "stdout",
     "output_type": "stream",
     "text": [
      " | Test loss 1.65\n"
     ]
    },
    {
     "name": "stderr",
     "output_type": "stream",
     "text": [
      "100%|██████████| 1875/1875 [00:10<00:00, 172.06it/s]"
     ]
    },
    {
     "name": "stdout",
     "output_type": "stream",
     "text": [
      "Epoch   9 | Train loss 1.64"
     ]
    },
    {
     "name": "stderr",
     "output_type": "stream",
     "text": [
      "\n"
     ]
    },
    {
     "name": "stdout",
     "output_type": "stream",
     "text": [
      " | Test loss 1.62\n"
     ]
    }
   ],
   "source": [
    "# Training loop\n",
    "n_epochs = 10\n",
    "\n",
    "for epoch in range(n_epochs):\n",
    "    train_loss = []\n",
    "    test_loss = []\n",
    "    for x, y in tqdm(train_loader):\n",
    "        optimizer.zero_grad()\n",
    "\n",
    "        x = x.to(device)\n",
    "        y = y.to(device)\n",
    "\n",
    "        yhat = model(x)  # Forward pass\n",
    "        loss = criterion(yhat, y)  # Compute loss\n",
    "\n",
    "        loss.backward()  # Backward pass\n",
    "        optimizer.step()  # Update parameters\n",
    "\n",
    "        train_loss.append(loss.item())\n",
    "\n",
    "    print(f'Epoch {epoch:3d} | Train loss {np.mean(train_loss):.2f}', end='')\n",
    "\n",
    "    for x, y in test_loader:\n",
    "        optimizer.zero_grad()\n",
    "\n",
    "        x = x.to(device)\n",
    "        y = y.to(device)\n",
    "\n",
    "        yhat = model(x)\n",
    "        loss = criterion(yhat, y)\n",
    "\n",
    "        test_loss.append(loss.item())\n",
    "\n",
    "    print(f' | Test loss {np.mean(test_loss):.2f}', end='\\n')"
   ]
  },
  {
   "cell_type": "code",
   "execution_count": 8,
   "metadata": {},
   "outputs": [
    {
     "data": {
      "image/png": "[encoded data removed]",
      "text/plain": [
       "<Figure size 1152x648 with 64 Axes>"
      ]
     },
     "metadata": {
      "needs_background": "light"
     },
     "output_type": "display_data"
    }
   ],
   "source": [
    "height = int(np.ceil(np.sqrt(channels)))\n",
    "width = int(np.ceil(np.sqrt(channels)))\n",
    "\n",
    "fig, axes = plt.subplots(height, width, figsize=(16, 9))\n",
    "axes = [ax for a in axes for ax in a]\n",
    "\n",
    "kernels = copy.deepcopy(model.conv1.weight)\n",
    "kernels = kernels.cpu().detach()\n",
    "for i, kernel in enumerate(kernels):\n",
    "    axes[i].imshow(kernel.view(kernel_size, kernel_size), cmap='Greys')"
   ]
  },
  {
   "cell_type": "markdown",
   "metadata": {},
   "source": [
    "## Check invariance\n",
    "We will now check the invariance of the CNN by calculating the gradient of the mean activation with respect to the kernels. \n",
    "\n",
    "We will pass through an image of a square box and the same image with the box translated. This is the only difference of the input images. The sum of pixel activations in the images are the same. \n",
    "\n",
    "Additionally and importantly, the square box is located (in both cases) far enough inside the image that the kernel does not extend beyond the image whenever it touches the square. This would result in some outputs being ignored.\n",
    "\n",
    "We will examine this at three points during the forward pass:\n",
    "\n",
    "1. Using the mean activation after the convolution\n",
    "2. Using the mean activation after the max pooling\n",
    "3. Using the mean activation after the final linear softmax layer"
   ]
  },
  {
   "cell_type": "code",
   "execution_count": 9,
   "metadata": {},
   "outputs": [
    {
     "data": {
      "text/plain": [
       "GlobalPoolCNN(\n",
       "  (conv1): Conv2d(1, 64, kernel_size=(5, 5), stride=(1, 1), padding=(2, 2))\n",
       "  (max_pool): GlobalMaxPool2d\n",
       "  (linear1): Linear(in_features=64, out_features=10, bias=True)\n",
       "  (relu1): ReLU()\n",
       "  (relu2): ReLU()\n",
       "  (softmax): Softmax(dim=-1)\n",
       ")"
      ]
     },
     "execution_count": 9,
     "metadata": {},
     "output_type": "execute_result"
    }
   ],
   "source": [
    "model.cpu()"
   ]
  },
  {
   "cell_type": "code",
   "execution_count": 10,
   "metadata": {},
   "outputs": [],
   "source": [
    "square1 = torch.zeros(28, 28)\n",
    "square1[15:19, 8:12] = 1\n",
    "\n",
    "square2 = torch.zeros(28, 28)\n",
    "square2[7:11, 18:22] = 1"
   ]
  },
  {
   "cell_type": "code",
   "execution_count": 11,
   "metadata": {},
   "outputs": [
    {
     "data": {
      "text/plain": [
       "<matplotlib.image.AxesImage at 0x7f0c3ff33c10>"
      ]
     },
     "execution_count": 11,
     "metadata": {},
     "output_type": "execute_result"
    },
    {
     "data": {
      "image/png": "[encoded data removed]",
      "text/plain": [
       "<Figure size 432x288 with 2 Axes>"
      ]
     },
     "metadata": {
      "needs_background": "light"
     },
     "output_type": "display_data"
    }
   ],
   "source": [
    "fig, (ax1, ax2) = plt.subplots(1, 2)\n",
    "ax1.imshow(square1)\n",
    "ax2.imshow(square2)"
   ]
  },
  {
   "cell_type": "code",
   "execution_count": 12,
   "metadata": {},
   "outputs": [],
   "source": [
    "square1 = square1.view(1, 1, 28, 28)\n",
    "square2 = square2.view(1, 1, 28, 28)"
   ]
  },
  {
   "cell_type": "markdown",
   "metadata": {},
   "source": [
    "### Activations after convolution"
   ]
  },
  {
   "cell_type": "code",
   "execution_count": 13,
   "metadata": {},
   "outputs": [],
   "source": [
    "model.zero_grad()\n",
    "out1 = model.conv1(square1)\n",
    "out1.mean().backward()\n",
    "grad1 = copy.deepcopy(model.conv1.weight.grad)"
   ]
  },
  {
   "cell_type": "code",
   "execution_count": 14,
   "metadata": {},
   "outputs": [],
   "source": [
    "model.zero_grad()\n",
    "out2 = model.conv1(square2)\n",
    "out2.mean().backward()\n",
    "grad2 = copy.deepcopy(model.conv1.weight.grad)"
   ]
  },
  {
   "cell_type": "code",
   "execution_count": 15,
   "metadata": {},
   "outputs": [
    {
     "data": {
      "text/plain": [
       "<matplotlib.image.AxesImage at 0x7f0c3fe43450>"
      ]
     },
     "execution_count": 15,
     "metadata": {},
     "output_type": "execute_result"
    },
    {
     "data": {
      "image/png": "[encoded data removed]",
      "text/plain": [
       "<Figure size 432x288 with 2 Axes>"
      ]
     },
     "metadata": {
      "needs_background": "light"
     },
     "output_type": "display_data"
    }
   ],
   "source": [
    "fig, (ax1, ax2) = plt.subplots(1, 2)\n",
    "ax1.imshow(out1[0, 0, ...].detach())\n",
    "ax2.imshow(out2[0, 0, ...].detach())"
   ]
  },
  {
   "cell_type": "markdown",
   "metadata": {},
   "source": [
    "Note that the outputs are the same, only translated. This exemplifies the so-called *translational equivariance* of the convolution: Translated versions of the input give rise to translated versions of the output.\n",
    "\n",
    "More generally, equivariance entails that if we vary the input to an operation by applying some transformation, the output varies in an equivalent way. Here, the equivariance is toward translational transformations and the operation is the convolution.\n",
    "\n",
    "Complete *invariance* is a stronger concept that entails that if we vary the input to an operation by applying some transformation, the output remains the same. It is invariant to that type of transformation to the input.\n",
    "\n",
    "It turns out, that looking closer at the next layers of our GlobalPoolingCNN model, it is in fact *invariant to translations* in the input.\n",
    "\n",
    "Looking at the gradients of the convolutional kernel, they are also equal, regardless of which input we give (and which output we backward propagate from, even though they are not identical)."
   ]
  },
  {
   "cell_type": "code",
   "execution_count": 16,
   "metadata": {},
   "outputs": [
    {
     "data": {
      "text/plain": [
       "(False, True)"
      ]
     },
     "execution_count": 16,
     "metadata": {},
     "output_type": "execute_result"
    }
   ],
   "source": [
    "grad1 is grad2, np.allclose(grad1.detach(), grad2.detach())"
   ]
  },
  {
   "cell_type": "code",
   "execution_count": 17,
   "metadata": {},
   "outputs": [
    {
     "data": {
      "text/plain": [
       "(tensor([[[0.0003, 0.0003, 0.0003, 0.0003, 0.0003],\n",
       "          [0.0003, 0.0003, 0.0003, 0.0003, 0.0003],\n",
       "          [0.0003, 0.0003, 0.0003, 0.0003, 0.0003],\n",
       "          [0.0003, 0.0003, 0.0003, 0.0003, 0.0003],\n",
       "          [0.0003, 0.0003, 0.0003, 0.0003, 0.0003]]]),\n",
       " tensor([[[0.0003, 0.0003, 0.0003, 0.0003, 0.0003],\n",
       "          [0.0003, 0.0003, 0.0003, 0.0003, 0.0003],\n",
       "          [0.0003, 0.0003, 0.0003, 0.0003, 0.0003],\n",
       "          [0.0003, 0.0003, 0.0003, 0.0003, 0.0003],\n",
       "          [0.0003, 0.0003, 0.0003, 0.0003, 0.0003]]]))"
      ]
     },
     "execution_count": 17,
     "metadata": {},
     "output_type": "execute_result"
    }
   ],
   "source": [
    "grad1[0], grad2[0]"
   ]
  },
  {
   "cell_type": "markdown",
   "metadata": {},
   "source": [
    "### Activations after global max pool"
   ]
  },
  {
   "cell_type": "code",
   "execution_count": 18,
   "metadata": {},
   "outputs": [],
   "source": [
    "model.zero_grad()\n",
    "out1 = model.max_pool_layer(square1)\n",
    "out1.mean().backward()\n",
    "grad1 = copy.deepcopy(model.conv1.weight.grad)"
   ]
  },
  {
   "cell_type": "code",
   "execution_count": 19,
   "metadata": {},
   "outputs": [],
   "source": [
    "model.zero_grad()\n",
    "out2 = model.max_pool_layer(square2)\n",
    "out2.mean().backward()\n",
    "grad2 = copy.deepcopy(model.conv1.weight.grad)"
   ]
  },
  {
   "cell_type": "code",
   "execution_count": 20,
   "metadata": {},
   "outputs": [
    {
     "data": {
      "text/plain": [
       "<matplotlib.image.AxesImage at 0x7f0c3fd87350>"
      ]
     },
     "execution_count": 20,
     "metadata": {},
     "output_type": "execute_result"
    },
    {
     "data": {
      "image/png": "[encoded data removed]",
      "text/plain": [
       "<Figure size 432x288 with 2 Axes>"
      ]
     },
     "metadata": {
      "needs_background": "light"
     },
     "output_type": "display_data"
    }
   ],
   "source": [
    "fig, (ax1, ax2) = plt.subplots(1, 2)\n",
    "ax1.imshow(out1.detach().view(1, channels), aspect='auto')\n",
    "ax2.imshow(out2.detach().view(1, channels), aspect='auto')"
   ]
  },
  {
   "cell_type": "code",
   "execution_count": 21,
   "metadata": {},
   "outputs": [
    {
     "data": {
      "text/plain": [
       "(False, True)"
      ]
     },
     "execution_count": 21,
     "metadata": {},
     "output_type": "execute_result"
    }
   ],
   "source": [
    "grad1 is grad2, np.allclose(grad1.detach(), grad2.detach())"
   ]
  },
  {
   "cell_type": "code",
   "execution_count": 22,
   "metadata": {},
   "outputs": [
    {
     "data": {
      "text/plain": [
       "(tensor([[[0.0000, 0.0000, 0.0000, 0.0000, 0.0000],\n",
       "          [0.0000, 0.0156, 0.0156, 0.0156, 0.0156],\n",
       "          [0.0000, 0.0156, 0.0156, 0.0156, 0.0156],\n",
       "          [0.0000, 0.0156, 0.0156, 0.0156, 0.0156],\n",
       "          [0.0000, 0.0156, 0.0156, 0.0156, 0.0156]]]),\n",
       " tensor([[[0.0000, 0.0000, 0.0000, 0.0000, 0.0000],\n",
       "          [0.0000, 0.0156, 0.0156, 0.0156, 0.0156],\n",
       "          [0.0000, 0.0156, 0.0156, 0.0156, 0.0156],\n",
       "          [0.0000, 0.0156, 0.0156, 0.0156, 0.0156],\n",
       "          [0.0000, 0.0156, 0.0156, 0.0156, 0.0156]]]))"
      ]
     },
     "execution_count": 22,
     "metadata": {},
     "output_type": "execute_result"
    }
   ],
   "source": [
    "grad1[0], grad2[0]"
   ]
  },
  {
   "cell_type": "markdown",
   "metadata": {},
   "source": [
    "After the global max pooling, our activations are now identical regardless of the input translation. This is *translational invariance*."
   ]
  },
  {
   "cell_type": "markdown",
   "metadata": {},
   "source": [
    "### Activations after final softmax classifier"
   ]
  },
  {
   "cell_type": "code",
   "execution_count": 23,
   "metadata": {},
   "outputs": [],
   "source": [
    "model.zero_grad()\n",
    "out1 = model(square1)\n",
    "criterion(out1, torch.LongTensor([0])).backward()\n",
    "grad1 = copy.deepcopy(model.conv1.weight.grad)"
   ]
  },
  {
   "cell_type": "code",
   "execution_count": 24,
   "metadata": {},
   "outputs": [],
   "source": [
    "model.zero_grad()\n",
    "out2 = model(square2)\n",
    "criterion(out2, torch.LongTensor([0])).backward()\n",
    "grad2 = copy.deepcopy(model.conv1.weight.grad)"
   ]
  },
  {
   "cell_type": "code",
   "execution_count": 25,
   "metadata": {},
   "outputs": [
    {
     "data": {
      "text/plain": [
       "<matplotlib.image.AxesImage at 0x7f0c3fd45a50>"
      ]
     },
     "execution_count": 25,
     "metadata": {},
     "output_type": "execute_result"
    },
    {
     "data": {
      "image/png": "[encoded data removed]",
      "text/plain": [
       "<Figure size 432x288 with 2 Axes>"
      ]
     },
     "metadata": {
      "needs_background": "light"
     },
     "output_type": "display_data"
    }
   ],
   "source": [
    "fig, (ax1, ax2) = plt.subplots(1, 2)\n",
    "ax1.imshow(out1.detach().view(1, 10))\n",
    "ax2.imshow(out2.detach().view(1, 10))"
   ]
  },
  {
   "cell_type": "code",
   "execution_count": 26,
   "metadata": {},
   "outputs": [
    {
     "data": {
      "text/plain": [
       "(False, True)"
      ]
     },
     "execution_count": 26,
     "metadata": {},
     "output_type": "execute_result"
    }
   ],
   "source": [
    "out1 is out2, np.allclose(out1.detach(), out2.detach())"
   ]
  },
  {
   "cell_type": "code",
   "execution_count": 27,
   "metadata": {},
   "outputs": [
    {
     "data": {
      "text/plain": [
       "(False, True)"
      ]
     },
     "execution_count": 27,
     "metadata": {},
     "output_type": "execute_result"
    }
   ],
   "source": [
    "grad1 is grad2, np.allclose(grad1.detach(), grad2.detach())"
   ]
  },
  {
   "cell_type": "code",
   "execution_count": 28,
   "metadata": {},
   "outputs": [
    {
     "data": {
      "text/plain": [
       "(tensor([[[0.0000, 0.0000, 0.0000, 0.0000, 0.0000],\n",
       "          [0.0000, 0.0003, 0.0003, 0.0003, 0.0003],\n",
       "          [0.0000, 0.0003, 0.0003, 0.0003, 0.0003],\n",
       "          [0.0000, 0.0003, 0.0003, 0.0003, 0.0003],\n",
       "          [0.0000, 0.0003, 0.0003, 0.0003, 0.0003]]]),\n",
       " tensor([[[0.0000, 0.0000, 0.0000, 0.0000, 0.0000],\n",
       "          [0.0000, 0.0003, 0.0003, 0.0003, 0.0003],\n",
       "          [0.0000, 0.0003, 0.0003, 0.0003, 0.0003],\n",
       "          [0.0000, 0.0003, 0.0003, 0.0003, 0.0003],\n",
       "          [0.0000, 0.0003, 0.0003, 0.0003, 0.0003]]]))"
      ]
     },
     "execution_count": 28,
     "metadata": {},
     "output_type": "execute_result"
    }
   ],
   "source": [
    "grad1[0], grad2[0]"
   ]
  },
  {
   "cell_type": "markdown",
   "metadata": {},
   "source": [
    "### Conclusion\n",
    "\n",
    "The first convolutional layer is translationally invariant by the design of the convolution operation.\n",
    "\n",
    "The global max pooling layer effectively removes all spatial information from the spatial feature map output from the convolution.\n",
    "\n",
    "The resulting $B \\times C$ vector (batch matrix) is fed to the final linear classifier which, since there is no spatial information, is also invariant to translations, by design.\n",
    "\n",
    "We conclude this based on the fact that the gradient of the convolutional kernel computed from the mean of the output at each of these steps is equal for both the original and the translated inputs.\n",
    "\n",
    "Since the gradient is identical, the kernel would have been updated identically using either input image. This also shows that translations are not an effective data augmentation technique for CNNs if design such that the final linear layer does not act on a spatial feature map."
   ]
  },
  {
   "cell_type": "markdown",
   "metadata": {},
   "source": [
    "# Convolutional model with local pooling"
   ]
  },
  {
   "cell_type": "markdown",
   "metadata": {},
   "source": [
    "## Train\n",
    "To get some non-random kernels, we start by training the model for a bit. This will allow the kernels to become useful. This is not strictly necessary, but brings the example closer to reality."
   ]
  },
  {
   "cell_type": "code",
   "execution_count": 29,
   "metadata": {},
   "outputs": [],
   "source": [
    "# Define model, optimizer and loss\n",
    "model = LocalPoolCNN()\n",
    "optimizer = optim.Adam(model.parameters(), lr=3e-4)\n",
    "criterion = nn.CrossEntropyLoss()"
   ]
  },
  {
   "cell_type": "code",
   "execution_count": 30,
   "metadata": {},
   "outputs": [
    {
     "data": {
      "text/plain": [
       "CrossEntropyLoss()"
      ]
     },
     "execution_count": 30,
     "metadata": {},
     "output_type": "execute_result"
    }
   ],
   "source": [
    "model.to(device)\n",
    "criterion.to(device)"
   ]
  },
  {
   "cell_type": "code",
   "execution_count": 31,
   "metadata": {},
   "outputs": [
    {
     "name": "stderr",
     "output_type": "stream",
     "text": [
      "100%|██████████| 1875/1875 [00:10<00:00, 173.08it/s]"
     ]
    },
    {
     "name": "stdout",
     "output_type": "stream",
     "text": [
      "Epoch   0 | Train loss 1.55"
     ]
    },
    {
     "name": "stderr",
     "output_type": "stream",
     "text": [
      "\n",
      "  0%|          | 0/1875 [00:00<?, ?it/s]"
     ]
    },
    {
     "name": "stdout",
     "output_type": "stream",
     "text": [
      " | Test loss 1.49\n"
     ]
    },
    {
     "name": "stderr",
     "output_type": "stream",
     "text": [
      "100%|██████████| 1875/1875 [00:10<00:00, 179.58it/s]"
     ]
    },
    {
     "name": "stdout",
     "output_type": "stream",
     "text": [
      "Epoch   1 | Train loss 1.49"
     ]
    },
    {
     "name": "stderr",
     "output_type": "stream",
     "text": [
      "\n",
      "  0%|          | 0/1875 [00:00<?, ?it/s]"
     ]
    },
    {
     "name": "stdout",
     "output_type": "stream",
     "text": [
      " | Test loss 1.48\n"
     ]
    },
    {
     "name": "stderr",
     "output_type": "stream",
     "text": [
      "100%|██████████| 1875/1875 [00:10<00:00, 175.80it/s]"
     ]
    },
    {
     "name": "stdout",
     "output_type": "stream",
     "text": [
      "Epoch   2 | Train loss 1.48"
     ]
    },
    {
     "name": "stderr",
     "output_type": "stream",
     "text": [
      "\n",
      "  0%|          | 0/1875 [00:00<?, ?it/s]"
     ]
    },
    {
     "name": "stdout",
     "output_type": "stream",
     "text": [
      " | Test loss 1.48\n"
     ]
    },
    {
     "name": "stderr",
     "output_type": "stream",
     "text": [
      "100%|██████████| 1875/1875 [00:10<00:00, 171.75it/s]"
     ]
    },
    {
     "name": "stdout",
     "output_type": "stream",
     "text": [
      "Epoch   3 | Train loss 1.48"
     ]
    },
    {
     "name": "stderr",
     "output_type": "stream",
     "text": [
      "\n",
      "  0%|          | 0/1875 [00:00<?, ?it/s]"
     ]
    },
    {
     "name": "stdout",
     "output_type": "stream",
     "text": [
      " | Test loss 1.48\n"
     ]
    },
    {
     "name": "stderr",
     "output_type": "stream",
     "text": [
      "100%|██████████| 1875/1875 [00:11<00:00, 163.66it/s]"
     ]
    },
    {
     "name": "stdout",
     "output_type": "stream",
     "text": [
      "Epoch   4 | Train loss 1.48"
     ]
    },
    {
     "name": "stderr",
     "output_type": "stream",
     "text": [
      "\n",
      "  0%|          | 0/1875 [00:00<?, ?it/s]"
     ]
    },
    {
     "name": "stdout",
     "output_type": "stream",
     "text": [
      " | Test loss 1.47\n"
     ]
    },
    {
     "name": "stderr",
     "output_type": "stream",
     "text": [
      "100%|██████████| 1875/1875 [00:12<00:00, 155.78it/s]"
     ]
    },
    {
     "name": "stdout",
     "output_type": "stream",
     "text": [
      "Epoch   5 | Train loss 1.47"
     ]
    },
    {
     "name": "stderr",
     "output_type": "stream",
     "text": [
      "\n",
      "  0%|          | 0/1875 [00:00<?, ?it/s]"
     ]
    },
    {
     "name": "stdout",
     "output_type": "stream",
     "text": [
      " | Test loss 1.48\n"
     ]
    },
    {
     "name": "stderr",
     "output_type": "stream",
     "text": [
      "100%|██████████| 1875/1875 [00:12<00:00, 151.70it/s]"
     ]
    },
    {
     "name": "stdout",
     "output_type": "stream",
     "text": [
      "Epoch   6 | Train loss 1.47"
     ]
    },
    {
     "name": "stderr",
     "output_type": "stream",
     "text": [
      "\n",
      "  0%|          | 0/1875 [00:00<?, ?it/s]"
     ]
    },
    {
     "name": "stdout",
     "output_type": "stream",
     "text": [
      " | Test loss 1.48\n"
     ]
    },
    {
     "name": "stderr",
     "output_type": "stream",
     "text": [
      "100%|██████████| 1875/1875 [00:11<00:00, 166.27it/s]"
     ]
    },
    {
     "name": "stdout",
     "output_type": "stream",
     "text": [
      "Epoch   7 | Train loss 1.47"
     ]
    },
    {
     "name": "stderr",
     "output_type": "stream",
     "text": [
      "\n",
      "  0%|          | 0/1875 [00:00<?, ?it/s]"
     ]
    },
    {
     "name": "stdout",
     "output_type": "stream",
     "text": [
      " | Test loss 1.47\n"
     ]
    },
    {
     "name": "stderr",
     "output_type": "stream",
     "text": [
      "100%|██████████| 1875/1875 [00:10<00:00, 174.98it/s]"
     ]
    },
    {
     "name": "stdout",
     "output_type": "stream",
     "text": [
      "Epoch   8 | Train loss 1.47"
     ]
    },
    {
     "name": "stderr",
     "output_type": "stream",
     "text": [
      "\n",
      "  0%|          | 0/1875 [00:00<?, ?it/s]"
     ]
    },
    {
     "name": "stdout",
     "output_type": "stream",
     "text": [
      " | Test loss 1.48\n"
     ]
    },
    {
     "name": "stderr",
     "output_type": "stream",
     "text": [
      "100%|██████████| 1875/1875 [00:11<00:00, 168.07it/s]"
     ]
    },
    {
     "name": "stdout",
     "output_type": "stream",
     "text": [
      "Epoch   9 | Train loss 1.47"
     ]
    },
    {
     "name": "stderr",
     "output_type": "stream",
     "text": [
      "\n"
     ]
    },
    {
     "name": "stdout",
     "output_type": "stream",
     "text": [
      " | Test loss 1.47\n"
     ]
    }
   ],
   "source": [
    "# Training loop\n",
    "n_epochs = 10\n",
    "\n",
    "for epoch in range(n_epochs):\n",
    "    train_loss = []\n",
    "    test_loss = []\n",
    "    for x, y in tqdm(train_loader):\n",
    "        optimizer.zero_grad()\n",
    "\n",
    "        x = x.to(device)\n",
    "        y = y.to(device)\n",
    "\n",
    "        yhat = model(x)  # Forward pass\n",
    "        loss = criterion(yhat, y)  # Compute loss\n",
    "\n",
    "        loss.backward()  # Backward pass\n",
    "        optimizer.step()  # Update parameters\n",
    "\n",
    "        train_loss.append(loss.item())\n",
    "\n",
    "    print(f'Epoch {epoch:3d} | Train loss {np.mean(train_loss):.2f}', end='')\n",
    "\n",
    "    for x, y in test_loader:\n",
    "        optimizer.zero_grad()\n",
    "\n",
    "        x = x.to(device)\n",
    "        y = y.to(device)\n",
    "\n",
    "        yhat = model(x)\n",
    "        loss = criterion(yhat, y)\n",
    "\n",
    "        test_loss.append(loss.item())\n",
    "\n",
    "    print(f' | Test loss {np.mean(test_loss):.2f}', end='\\n')"
   ]
  },
  {
   "cell_type": "code",
   "execution_count": 32,
   "metadata": {},
   "outputs": [
    {
     "data": {
      "image/png": "[encoded data removed]",
      "text/plain": [
       "<Figure size 1152x648 with 64 Axes>"
      ]
     },
     "metadata": {
      "needs_background": "light"
     },
     "output_type": "display_data"
    }
   ],
   "source": [
    "height = int(np.ceil(np.sqrt(channels)))\n",
    "width = int(np.ceil(np.sqrt(channels)))\n",
    "\n",
    "fig, axes = plt.subplots(height, width, figsize=(16, 9))\n",
    "axes = [ax for a in axes for ax in a]\n",
    "\n",
    "kernels = copy.deepcopy(model.conv1.weight)\n",
    "kernels = kernels.cpu().detach()\n",
    "for i, kernel in enumerate(kernels):\n",
    "    axes[i].imshow(kernel.view(kernel_size, kernel_size), cmap='Greys')"
   ]
  },
  {
   "cell_type": "markdown",
   "metadata": {},
   "source": [
    "## Check invariance"
   ]
  },
  {
   "cell_type": "code",
   "execution_count": 33,
   "metadata": {},
   "outputs": [
    {
     "data": {
      "text/plain": [
       "LocalPoolCNN(\n",
       "  (conv1): Conv2d(1, 64, kernel_size=(5, 5), stride=(1, 1), padding=(2, 2))\n",
       "  (max_pool): MaxPool2d(kernel_size=5, stride=2, padding=2, dilation=1, ceil_mode=False)\n",
       "  (linear1): Linear(in_features=12544, out_features=10, bias=True)\n",
       "  (relu1): ReLU()\n",
       "  (relu2): ReLU()\n",
       "  (softmax): Softmax(dim=-1)\n",
       ")"
      ]
     },
     "execution_count": 33,
     "metadata": {},
     "output_type": "execute_result"
    }
   ],
   "source": [
    "model.cpu()"
   ]
  },
  {
   "cell_type": "code",
   "execution_count": 34,
   "metadata": {},
   "outputs": [],
   "source": [
    "square1 = torch.zeros(28, 28)\n",
    "square1[15:19, 8:12] = 1\n",
    "\n",
    "square2 = torch.zeros(28, 28)\n",
    "square2[7:11, 18:22] = 1"
   ]
  },
  {
   "cell_type": "code",
   "execution_count": 35,
   "metadata": {},
   "outputs": [
    {
     "data": {
      "text/plain": [
       "<matplotlib.image.AxesImage at 0x7f0b9c056810>"
      ]
     },
     "execution_count": 35,
     "metadata": {},
     "output_type": "execute_result"
    },
    {
     "data": {
      "image/png": "[encoded data removed]",
      "text/plain": [
       "<Figure size 432x288 with 2 Axes>"
      ]
     },
     "metadata": {
      "needs_background": "light"
     },
     "output_type": "display_data"
    }
   ],
   "source": [
    "fig, (ax1, ax2) = plt.subplots(1, 2)\n",
    "ax1.imshow(square1)\n",
    "ax2.imshow(square2)"
   ]
  },
  {
   "cell_type": "code",
   "execution_count": 36,
   "metadata": {},
   "outputs": [],
   "source": [
    "square1 = square1.view(1, 1, 28, 28)\n",
    "square2 = square2.view(1, 1, 28, 28)"
   ]
  },
  {
   "cell_type": "markdown",
   "metadata": {},
   "source": [
    "### Activations after convolution"
   ]
  },
  {
   "cell_type": "code",
   "execution_count": 37,
   "metadata": {},
   "outputs": [],
   "source": [
    "model.zero_grad()\n",
    "out1 = model.conv1(square1)\n",
    "out1.mean().backward()\n",
    "grad1 = copy.deepcopy(model.conv1.weight.grad)"
   ]
  },
  {
   "cell_type": "code",
   "execution_count": 38,
   "metadata": {},
   "outputs": [],
   "source": [
    "model.zero_grad()\n",
    "out2 = model.conv1(square2)\n",
    "out2.mean().backward()\n",
    "grad2 = copy.deepcopy(model.conv1.weight.grad)"
   ]
  },
  {
   "cell_type": "code",
   "execution_count": 39,
   "metadata": {},
   "outputs": [
    {
     "data": {
      "text/plain": [
       "<matplotlib.image.AxesImage at 0x7f0c448e8e50>"
      ]
     },
     "execution_count": 39,
     "metadata": {},
     "output_type": "execute_result"
    },
    {
     "data": {
      "image/png": "[encoded data removed]",
      "text/plain": [
       "<Figure size 432x288 with 2 Axes>"
      ]
     },
     "metadata": {
      "needs_background": "light"
     },
     "output_type": "display_data"
    }
   ],
   "source": [
    "fig, (ax1, ax2) = plt.subplots(1, 2)\n",
    "ax1.imshow(out1[0, 0, ...].detach())\n",
    "ax2.imshow(out2[0, 0, ...].detach())"
   ]
  },
  {
   "cell_type": "code",
   "execution_count": 40,
   "metadata": {},
   "outputs": [
    {
     "data": {
      "text/plain": [
       "(False, True)"
      ]
     },
     "execution_count": 40,
     "metadata": {},
     "output_type": "execute_result"
    }
   ],
   "source": [
    "grad1 is grad2, np.allclose(grad1.detach(), grad2.detach())"
   ]
  },
  {
   "cell_type": "code",
   "execution_count": 41,
   "metadata": {},
   "outputs": [
    {
     "data": {
      "text/plain": [
       "(tensor([[[0.0003, 0.0003, 0.0003, 0.0003, 0.0003],\n",
       "          [0.0003, 0.0003, 0.0003, 0.0003, 0.0003],\n",
       "          [0.0003, 0.0003, 0.0003, 0.0003, 0.0003],\n",
       "          [0.0003, 0.0003, 0.0003, 0.0003, 0.0003],\n",
       "          [0.0003, 0.0003, 0.0003, 0.0003, 0.0003]]]),\n",
       " tensor([[[0.0003, 0.0003, 0.0003, 0.0003, 0.0003],\n",
       "          [0.0003, 0.0003, 0.0003, 0.0003, 0.0003],\n",
       "          [0.0003, 0.0003, 0.0003, 0.0003, 0.0003],\n",
       "          [0.0003, 0.0003, 0.0003, 0.0003, 0.0003],\n",
       "          [0.0003, 0.0003, 0.0003, 0.0003, 0.0003]]]))"
      ]
     },
     "execution_count": 41,
     "metadata": {},
     "output_type": "execute_result"
    }
   ],
   "source": [
    "grad1[0], grad2[0]"
   ]
  },
  {
   "cell_type": "markdown",
   "metadata": {},
   "source": [
    "### Activations after local max pool"
   ]
  },
  {
   "cell_type": "code",
   "execution_count": 42,
   "metadata": {},
   "outputs": [],
   "source": [
    "model.zero_grad()\n",
    "out1 = model.max_pool_layer(square1)\n",
    "out1.mean().backward()\n",
    "grad1 = copy.deepcopy(model.conv1.weight.grad)"
   ]
  },
  {
   "cell_type": "code",
   "execution_count": 43,
   "metadata": {},
   "outputs": [],
   "source": [
    "model.zero_grad()\n",
    "out2 = model.max_pool_layer(square2)\n",
    "out2.mean().backward()\n",
    "grad2 = copy.deepcopy(model.conv1.weight.grad)"
   ]
  },
  {
   "cell_type": "code",
   "execution_count": 44,
   "metadata": {},
   "outputs": [
    {
     "data": {
      "text/plain": [
       "<matplotlib.image.AxesImage at 0x7f0c5ca1a810>"
      ]
     },
     "execution_count": 44,
     "metadata": {},
     "output_type": "execute_result"
    },
    {
     "data": {
      "image/png": "[encoded data removed]",
      "text/plain": [
       "<Figure size 432x288 with 2 Axes>"
      ]
     },
     "metadata": {
      "needs_background": "light"
     },
     "output_type": "display_data"
    }
   ],
   "source": [
    "fig, (ax1, ax2) = plt.subplots(1, 2)\n",
    "ax1.imshow(out1.detach()[0, 0, ...], aspect='auto')\n",
    "ax2.imshow(out2.detach()[0, 0, ...], aspect='auto')"
   ]
  },
  {
   "cell_type": "code",
   "execution_count": 45,
   "metadata": {},
   "outputs": [
    {
     "data": {
      "text/plain": [
       "(False, True)"
      ]
     },
     "execution_count": 45,
     "metadata": {},
     "output_type": "execute_result"
    }
   ],
   "source": [
    "grad1 is grad2, np.allclose(grad1.detach(), grad2.detach())"
   ]
  },
  {
   "cell_type": "code",
   "execution_count": 46,
   "metadata": {},
   "outputs": [
    {
     "data": {
      "text/plain": [
       "<matplotlib.image.AxesImage at 0x7f0c427d4b90>"
      ]
     },
     "execution_count": 46,
     "metadata": {},
     "output_type": "execute_result"
    },
    {
     "data": {
      "image/png": "[encoded data removed]",
      "text/plain": [
       "<Figure size 432x288 with 2 Axes>"
      ]
     },
     "metadata": {
      "needs_background": "light"
     },
     "output_type": "display_data"
    }
   ],
   "source": [
    "fig, (ax1, ax2) = plt.subplots(1, 2)\n",
    "ax1.imshow(grad1.detach()[0,0])\n",
    "ax2.imshow(grad2.detach()[0,0])"
   ]
  },
  {
   "cell_type": "code",
   "execution_count": 47,
   "metadata": {},
   "outputs": [
    {
     "data": {
      "text/plain": [
       "(tensor([[[0.0000, 0.0000, 0.0010, 0.0010, 0.0012],\n",
       "          [0.0000, 0.0000, 0.0008, 0.0010, 0.0011],\n",
       "          [0.0000, 0.0000, 0.0008, 0.0010, 0.0010],\n",
       "          [0.0000, 0.0000, 0.0006, 0.0010, 0.0010],\n",
       "          [0.0003, 0.0002, 0.0003, 0.0006, 0.0007]]]),\n",
       " tensor([[[0.0000, 0.0000, 0.0010, 0.0010, 0.0012],\n",
       "          [0.0000, 0.0000, 0.0008, 0.0010, 0.0011],\n",
       "          [0.0000, 0.0000, 0.0008, 0.0010, 0.0010],\n",
       "          [0.0000, 0.0000, 0.0006, 0.0010, 0.0010],\n",
       "          [0.0003, 0.0002, 0.0003, 0.0006, 0.0007]]]))"
      ]
     },
     "execution_count": 47,
     "metadata": {},
     "output_type": "execute_result"
    }
   ],
   "source": [
    "grad1[0], grad2[0]"
   ]
  },
  {
   "cell_type": "markdown",
   "metadata": {},
   "source": [
    "### Activations after final softmax classifier"
   ]
  },
  {
   "cell_type": "code",
   "execution_count": 48,
   "metadata": {},
   "outputs": [],
   "source": [
    "model.zero_grad()\n",
    "out1 = model(square1)\n",
    "criterion(out1, torch.LongTensor([0])).backward()\n",
    "grad1 = copy.deepcopy(model.conv1.weight.grad)"
   ]
  },
  {
   "cell_type": "code",
   "execution_count": 49,
   "metadata": {},
   "outputs": [],
   "source": [
    "model.zero_grad()\n",
    "out2 = model(square2)\n",
    "criterion(out2, torch.LongTensor([0])).backward()\n",
    "grad2 = copy.deepcopy(model.conv1.weight.grad)"
   ]
  },
  {
   "cell_type": "code",
   "execution_count": 50,
   "metadata": {},
   "outputs": [
    {
     "data": {
      "text/plain": [
       "<matplotlib.image.AxesImage at 0x7f0c426a96d0>"
      ]
     },
     "execution_count": 50,
     "metadata": {},
     "output_type": "execute_result"
    },
    {
     "data": {
      "image/png": "[encoded data removed]",
      "text/plain": [
       "<Figure size 432x288 with 2 Axes>"
      ]
     },
     "metadata": {
      "needs_background": "light"
     },
     "output_type": "display_data"
    }
   ],
   "source": [
    "fig, (ax1, ax2) = plt.subplots(1, 2)\n",
    "ax1.imshow(out1.detach().view(1, 10))\n",
    "ax2.imshow(out2.detach().view(1, 10))"
   ]
  },
  {
   "cell_type": "code",
   "execution_count": 51,
   "metadata": {},
   "outputs": [
    {
     "data": {
      "text/plain": [
       "(False, False)"
      ]
     },
     "execution_count": 51,
     "metadata": {},
     "output_type": "execute_result"
    }
   ],
   "source": [
    "out1 is out2, np.allclose(out1.detach(), out2.detach())"
   ]
  },
  {
   "cell_type": "code",
   "execution_count": 52,
   "metadata": {},
   "outputs": [
    {
     "data": {
      "text/plain": [
       "(False, False)"
      ]
     },
     "execution_count": 52,
     "metadata": {},
     "output_type": "execute_result"
    }
   ],
   "source": [
    "grad1 is grad2, np.allclose(grad1.detach(), grad2.detach())"
   ]
  },
  {
   "cell_type": "code",
   "execution_count": 53,
   "metadata": {},
   "outputs": [
    {
     "data": {
      "text/plain": [
       "<matplotlib.image.AxesImage at 0x7f0c5c527cd0>"
      ]
     },
     "execution_count": 53,
     "metadata": {},
     "output_type": "execute_result"
    },
    {
     "data": {
      "image/png": "[encoded data removed]",
      "text/plain": [
       "<Figure size 432x288 with 2 Axes>"
      ]
     },
     "metadata": {
      "needs_background": "light"
     },
     "output_type": "display_data"
    }
   ],
   "source": [
    "fig, (ax1, ax2) = plt.subplots(1, 2)\n",
    "ax1.imshow(grad1.detach()[0,0])\n",
    "ax2.imshow(grad2.detach()[0,0])"
   ]
  },
  {
   "cell_type": "code",
   "execution_count": 54,
   "metadata": {},
   "outputs": [
    {
     "data": {
      "text/plain": [
       "(tensor([[[ 0.0000,  0.0000, -0.0042, -0.0042, -0.0056],\n",
       "          [ 0.0000,  0.0000, -0.0024, -0.0017, -0.0029],\n",
       "          [ 0.0000,  0.0000, -0.0024, -0.0017, -0.0017],\n",
       "          [ 0.0000,  0.0000, -0.0003,  0.0009,  0.0007],\n",
       "          [ 0.0005,  0.0011,  0.0021,  0.0033,  0.0021]]]),\n",
       " tensor([[[0.0000e+00, 0.0000e+00, 1.6463e-03, 1.6463e-03, 2.9976e-03],\n",
       "          [0.0000e+00, 0.0000e+00, 1.5339e-03, 1.5639e-03, 2.8767e-03],\n",
       "          [0.0000e+00, 0.0000e+00, 1.5339e-03, 1.5639e-03, 1.5639e-03],\n",
       "          [0.0000e+00, 0.0000e+00, 1.3427e-03, 7.5951e-04, 1.3370e-03],\n",
       "          [1.6246e-03, 1.4205e-03, 1.6307e-03, 1.0475e-03, 1.5777e-05]]]))"
      ]
     },
     "execution_count": 54,
     "metadata": {},
     "output_type": "execute_result"
    }
   ],
   "source": [
    "grad1[0], grad2[0]"
   ]
  },
  {
   "cell_type": "markdown",
   "metadata": {},
   "source": [
    "### Conclusion \n",
    "The local pooling CNN preservers has a (flattened) spatial map as input to the final linear classifciation layer.\n",
    "\n",
    "Since the linear layer is fully connected, it is sensitive to the location of high and low activations in its input.\n",
    "\n",
    "For this reason, the final layer is *not invariant to translations* in the input by design - this will have to be learned."
   ]
  },
  {
   "cell_type": "markdown",
   "metadata": {},
   "source": [
    "# MLP Classifier"
   ]
  },
  {
   "cell_type": "markdown",
   "metadata": {},
   "source": [
    "## Train"
   ]
  },
  {
   "cell_type": "code",
   "execution_count": 55,
   "metadata": {},
   "outputs": [],
   "source": [
    "# Define model, optimizer and loss\n",
    "model = MLP()\n",
    "optimizer = optim.Adam(model.parameters(), lr=3e-4)\n",
    "criterion = nn.CrossEntropyLoss()"
   ]
  },
  {
   "cell_type": "code",
   "execution_count": 56,
   "metadata": {},
   "outputs": [
    {
     "data": {
      "text/plain": [
       "CrossEntropyLoss()"
      ]
     },
     "execution_count": 56,
     "metadata": {},
     "output_type": "execute_result"
    }
   ],
   "source": [
    "model.to(device)\n",
    "criterion.to(device)"
   ]
  },
  {
   "cell_type": "code",
   "execution_count": 57,
   "metadata": {},
   "outputs": [
    {
     "name": "stderr",
     "output_type": "stream",
     "text": [
      "100%|██████████| 1875/1875 [00:11<00:00, 166.04it/s]"
     ]
    },
    {
     "name": "stdout",
     "output_type": "stream",
     "text": [
      "Epoch   0 | Train loss 1.68"
     ]
    },
    {
     "name": "stderr",
     "output_type": "stream",
     "text": [
      "\n",
      "  0%|          | 0/1875 [00:00<?, ?it/s]"
     ]
    },
    {
     "name": "stdout",
     "output_type": "stream",
     "text": [
      " | Test loss 1.56\n"
     ]
    },
    {
     "name": "stderr",
     "output_type": "stream",
     "text": [
      "100%|██████████| 1875/1875 [00:11<00:00, 170.37it/s]"
     ]
    },
    {
     "name": "stdout",
     "output_type": "stream",
     "text": [
      "Epoch   1 | Train loss 1.56"
     ]
    },
    {
     "name": "stderr",
     "output_type": "stream",
     "text": [
      "\n",
      "  0%|          | 0/1875 [00:00<?, ?it/s]"
     ]
    },
    {
     "name": "stdout",
     "output_type": "stream",
     "text": [
      " | Test loss 1.54\n"
     ]
    },
    {
     "name": "stderr",
     "output_type": "stream",
     "text": [
      "100%|██████████| 1875/1875 [00:11<00:00, 168.04it/s]"
     ]
    },
    {
     "name": "stdout",
     "output_type": "stream",
     "text": [
      "Epoch   2 | Train loss 1.54"
     ]
    },
    {
     "name": "stderr",
     "output_type": "stream",
     "text": [
      "\n",
      "  0%|          | 0/1875 [00:00<?, ?it/s]"
     ]
    },
    {
     "name": "stdout",
     "output_type": "stream",
     "text": [
      " | Test loss 1.53\n"
     ]
    },
    {
     "name": "stderr",
     "output_type": "stream",
     "text": [
      "100%|██████████| 1875/1875 [00:11<00:00, 164.56it/s]"
     ]
    },
    {
     "name": "stdout",
     "output_type": "stream",
     "text": [
      "Epoch   3 | Train loss 1.53"
     ]
    },
    {
     "name": "stderr",
     "output_type": "stream",
     "text": [
      "\n",
      "  0%|          | 0/1875 [00:00<?, ?it/s]"
     ]
    },
    {
     "name": "stdout",
     "output_type": "stream",
     "text": [
      " | Test loss 1.53\n"
     ]
    },
    {
     "name": "stderr",
     "output_type": "stream",
     "text": [
      "100%|██████████| 1875/1875 [00:11<00:00, 156.94it/s]"
     ]
    },
    {
     "name": "stdout",
     "output_type": "stream",
     "text": [
      "Epoch   4 | Train loss 1.52"
     ]
    },
    {
     "name": "stderr",
     "output_type": "stream",
     "text": [
      "\n",
      "  0%|          | 0/1875 [00:00<?, ?it/s]"
     ]
    },
    {
     "name": "stdout",
     "output_type": "stream",
     "text": [
      " | Test loss 1.52\n"
     ]
    },
    {
     "name": "stderr",
     "output_type": "stream",
     "text": [
      "100%|██████████| 1875/1875 [00:12<00:00, 154.24it/s]"
     ]
    },
    {
     "name": "stdout",
     "output_type": "stream",
     "text": [
      "Epoch   5 | Train loss 1.52"
     ]
    },
    {
     "name": "stderr",
     "output_type": "stream",
     "text": [
      "\n",
      "  0%|          | 0/1875 [00:00<?, ?it/s]"
     ]
    },
    {
     "name": "stdout",
     "output_type": "stream",
     "text": [
      " | Test loss 1.52\n"
     ]
    },
    {
     "name": "stderr",
     "output_type": "stream",
     "text": [
      "100%|██████████| 1875/1875 [00:11<00:00, 169.55it/s]"
     ]
    },
    {
     "name": "stdout",
     "output_type": "stream",
     "text": [
      "Epoch   6 | Train loss 1.51"
     ]
    },
    {
     "name": "stderr",
     "output_type": "stream",
     "text": [
      "\n",
      "  0%|          | 0/1875 [00:00<?, ?it/s]"
     ]
    },
    {
     "name": "stdout",
     "output_type": "stream",
     "text": [
      " | Test loss 1.52\n"
     ]
    },
    {
     "name": "stderr",
     "output_type": "stream",
     "text": [
      "100%|██████████| 1875/1875 [00:11<00:00, 165.05it/s]"
     ]
    },
    {
     "name": "stdout",
     "output_type": "stream",
     "text": [
      "Epoch   7 | Train loss 1.51"
     ]
    },
    {
     "name": "stderr",
     "output_type": "stream",
     "text": [
      "\n",
      "  0%|          | 0/1875 [00:00<?, ?it/s]"
     ]
    },
    {
     "name": "stdout",
     "output_type": "stream",
     "text": [
      " | Test loss 1.51\n"
     ]
    },
    {
     "name": "stderr",
     "output_type": "stream",
     "text": [
      "100%|██████████| 1875/1875 [00:11<00:00, 164.68it/s]"
     ]
    },
    {
     "name": "stdout",
     "output_type": "stream",
     "text": [
      "Epoch   8 | Train loss 1.51"
     ]
    },
    {
     "name": "stderr",
     "output_type": "stream",
     "text": [
      "\n",
      "  0%|          | 0/1875 [00:00<?, ?it/s]"
     ]
    },
    {
     "name": "stdout",
     "output_type": "stream",
     "text": [
      " | Test loss 1.51\n"
     ]
    },
    {
     "name": "stderr",
     "output_type": "stream",
     "text": [
      "100%|██████████| 1875/1875 [00:10<00:00, 171.14it/s]"
     ]
    },
    {
     "name": "stdout",
     "output_type": "stream",
     "text": [
      "Epoch   9 | Train loss 1.50"
     ]
    },
    {
     "name": "stderr",
     "output_type": "stream",
     "text": [
      "\n"
     ]
    },
    {
     "name": "stdout",
     "output_type": "stream",
     "text": [
      " | Test loss 1.51\n"
     ]
    }
   ],
   "source": [
    "# Training loop\n",
    "n_epochs = 10\n",
    "\n",
    "for epoch in range(n_epochs):\n",
    "    train_loss = []\n",
    "    test_loss = []\n",
    "    for x, y in tqdm(train_loader):\n",
    "        optimizer.zero_grad()\n",
    "\n",
    "        x = x.to(device)\n",
    "        y = y.to(device)\n",
    "\n",
    "        yhat = model(x)  # Forward pass\n",
    "        loss = criterion(yhat, y)  # Compute loss\n",
    "\n",
    "        loss.backward()  # Backward pass\n",
    "        optimizer.step()  # Update parameters\n",
    "\n",
    "        train_loss.append(loss.item())\n",
    "\n",
    "    print(f'Epoch {epoch:3d} | Train loss {np.mean(train_loss):.2f}', end='')\n",
    "\n",
    "    for x, y in test_loader:\n",
    "        optimizer.zero_grad()\n",
    "\n",
    "        x = x.to(device)\n",
    "        y = y.to(device)\n",
    "\n",
    "        yhat = model(x)\n",
    "        loss = criterion(yhat, y)\n",
    "\n",
    "        test_loss.append(loss.item())\n",
    "\n",
    "    print(f' | Test loss {np.mean(test_loss):.2f}', end='\\n')"
   ]
  },
  {
   "cell_type": "code",
   "execution_count": 58,
   "metadata": {},
   "outputs": [
    {
     "data": {
      "image/png": "[encoded data removed]",
      "text/plain": [
       "<Figure size 1152x648 with 3 Axes>"
      ]
     },
     "metadata": {
      "needs_background": "light"
     },
     "output_type": "display_data"
    }
   ],
   "source": [
    "fig, axes = plt.subplots(1, 3, figsize=(16, 9))\n",
    "\n",
    "weights = [copy.deepcopy(weight).detach().cpu() for weight in model.parameters() if weight.ndim == 2]\n",
    "for i, weight in enumerate(weights):\n",
    "    axes[i].imshow(weight, cmap='Greys')"
   ]
  },
  {
   "cell_type": "markdown",
   "metadata": {},
   "source": [
    "## Check invariance"
   ]
  },
  {
   "cell_type": "code",
   "execution_count": 59,
   "metadata": {},
   "outputs": [
    {
     "data": {
      "text/plain": [
       "MLP(\n",
       "  (linear_1): Linear(in_features=784, out_features=64, bias=True)\n",
       "  (linear_2): Linear(in_features=64, out_features=32, bias=True)\n",
       "  (linear_3): Linear(in_features=32, out_features=10, bias=True)\n",
       "  (relu1): ReLU()\n",
       "  (relu2): ReLU()\n",
       "  (softmax): Softmax(dim=-1)\n",
       ")"
      ]
     },
     "execution_count": 59,
     "metadata": {},
     "output_type": "execute_result"
    }
   ],
   "source": [
    "model.cpu()"
   ]
  },
  {
   "cell_type": "code",
   "execution_count": 60,
   "metadata": {},
   "outputs": [],
   "source": [
    "square1 = torch.zeros(28, 28)\n",
    "square1[15:19, 8:12] = 1\n",
    "\n",
    "square2 = torch.zeros(28, 28)\n",
    "square2[7:11, 18:22] = 1"
   ]
  },
  {
   "cell_type": "code",
   "execution_count": 61,
   "metadata": {},
   "outputs": [
    {
     "data": {
      "text/plain": [
       "<matplotlib.image.AxesImage at 0x7f0c42033810>"
      ]
     },
     "execution_count": 61,
     "metadata": {},
     "output_type": "execute_result"
    },
    {
     "data": {
      "image/png": "[encoded data removed]",
      "text/plain": [
       "<Figure size 432x288 with 2 Axes>"
      ]
     },
     "metadata": {
      "needs_background": "light"
     },
     "output_type": "display_data"
    }
   ],
   "source": [
    "fig, (ax1, ax2) = plt.subplots(1, 2)\n",
    "ax1.imshow(square1)\n",
    "ax2.imshow(square2)"
   ]
  },
  {
   "cell_type": "code",
   "execution_count": 62,
   "metadata": {},
   "outputs": [],
   "source": [
    "square1 = square1.view(1, 1, 28, 28)\n",
    "square2 = square2.view(1, 1, 28, 28)"
   ]
  },
  {
   "cell_type": "markdown",
   "metadata": {},
   "source": [
    "### Activations after first layer"
   ]
  },
  {
   "cell_type": "code",
   "execution_count": 63,
   "metadata": {},
   "outputs": [],
   "source": [
    "model.zero_grad()\n",
    "out1 = model.layer1(square1)\n",
    "out1.mean().backward()\n",
    "grad1 = copy.deepcopy(model.linear_1.weight.grad)"
   ]
  },
  {
   "cell_type": "code",
   "execution_count": 64,
   "metadata": {},
   "outputs": [],
   "source": [
    "model.zero_grad()\n",
    "out2 = model.layer1(square2)\n",
    "out2.mean().backward()\n",
    "grad2 = copy.deepcopy(model.linear_1.weight.grad)"
   ]
  },
  {
   "cell_type": "code",
   "execution_count": 65,
   "metadata": {},
   "outputs": [
    {
     "data": {
      "text/plain": [
       "<matplotlib.image.AxesImage at 0x7f0c4491c690>"
      ]
     },
     "execution_count": 65,
     "metadata": {},
     "output_type": "execute_result"
    },
    {
     "data": {
      "image/png": "[encoded data removed]",
      "text/plain": [
       "<Figure size 432x288 with 2 Axes>"
      ]
     },
     "metadata": {
      "needs_background": "light"
     },
     "output_type": "display_data"
    }
   ],
   "source": [
    "fig, (ax1, ax2) = plt.subplots(1, 2)\n",
    "ax1.imshow(out1.detach().view(8, 8))\n",
    "ax2.imshow(out2.detach().view(8, 8))"
   ]
  },
  {
   "cell_type": "code",
   "execution_count": 66,
   "metadata": {},
   "outputs": [
    {
     "data": {
      "text/plain": [
       "(False, False)"
      ]
     },
     "execution_count": 66,
     "metadata": {},
     "output_type": "execute_result"
    }
   ],
   "source": [
    "out1 is out2, np.allclose(out1.detach(), out2.detach())"
   ]
  },
  {
   "cell_type": "code",
   "execution_count": 67,
   "metadata": {},
   "outputs": [
    {
     "data": {
      "text/plain": [
       "(False, False)"
      ]
     },
     "execution_count": 67,
     "metadata": {},
     "output_type": "execute_result"
    }
   ],
   "source": [
    "grad1 is grad2, np.allclose(grad1.detach(), grad2.detach())"
   ]
  },
  {
   "cell_type": "markdown",
   "metadata": {},
   "source": [
    "For this fully connected classifier, there is no equivariance by design at the first layer. Hence, there is also no invariance.\n",
    "\n",
    "Any resemblence between the outputs is due to learned equivariance/invariance.\n",
    "\n",
    "Since the first layer is not equivariant (or invariant), the following also can't be. They can however learn it."
   ]
  },
  {
   "cell_type": "markdown",
   "metadata": {},
   "source": [
    "### Activations after second layer"
   ]
  },
  {
   "cell_type": "code",
   "execution_count": 68,
   "metadata": {},
   "outputs": [],
   "source": [
    "model.zero_grad()\n",
    "out1 = model.layer2(square1)\n",
    "out1.mean().backward()\n",
    "grad1 = copy.deepcopy(model.linear_1.weight.grad)"
   ]
  },
  {
   "cell_type": "code",
   "execution_count": 69,
   "metadata": {},
   "outputs": [],
   "source": [
    "model.zero_grad()\n",
    "out2 = model.layer2(square2)\n",
    "out2.mean().backward()\n",
    "grad2 = copy.deepcopy(model.linear_1.weight.grad)"
   ]
  },
  {
   "cell_type": "code",
   "execution_count": 70,
   "metadata": {},
   "outputs": [
    {
     "data": {
      "text/plain": [
       "<matplotlib.image.AxesImage at 0x7f0c425b4090>"
      ]
     },
     "execution_count": 70,
     "metadata": {},
     "output_type": "execute_result"
    },
    {
     "data": {
      "image/png": "[encoded data removed]",
      "text/plain": [
       "<Figure size 432x288 with 2 Axes>"
      ]
     },
     "metadata": {
      "needs_background": "light"
     },
     "output_type": "display_data"
    }
   ],
   "source": [
    "fig, (ax1, ax2) = plt.subplots(1, 2)\n",
    "ax1.imshow(out1.detach().view(1, 32), aspect='auto')\n",
    "ax2.imshow(out2.detach().view(1, 32), aspect='auto')"
   ]
  },
  {
   "cell_type": "code",
   "execution_count": 71,
   "metadata": {},
   "outputs": [
    {
     "data": {
      "text/plain": [
       "(False, False)"
      ]
     },
     "execution_count": 71,
     "metadata": {},
     "output_type": "execute_result"
    }
   ],
   "source": [
    "out1 is out2, np.allclose(out1.detach(), out2.detach())"
   ]
  },
  {
   "cell_type": "code",
   "execution_count": 72,
   "metadata": {},
   "outputs": [
    {
     "data": {
      "text/plain": [
       "(False, False)"
      ]
     },
     "execution_count": 72,
     "metadata": {},
     "output_type": "execute_result"
    }
   ],
   "source": [
    "grad1 is grad2, np.allclose(grad1.detach(), grad2.detach())"
   ]
  },
  {
   "cell_type": "markdown",
   "metadata": {},
   "source": [
    "### Activations after final softmax classifier"
   ]
  },
  {
   "cell_type": "code",
   "execution_count": 73,
   "metadata": {},
   "outputs": [],
   "source": [
    "model.zero_grad()\n",
    "out1 = model(square1)\n",
    "criterion(out1, torch.LongTensor([0])).backward()\n",
    "grad1 = copy.deepcopy(model.linear_1.weight.grad)"
   ]
  },
  {
   "cell_type": "code",
   "execution_count": 74,
   "metadata": {},
   "outputs": [],
   "source": [
    "model.zero_grad()\n",
    "out2 = model(square2)\n",
    "criterion(out2, torch.LongTensor([0])).backward()\n",
    "grad2 = copy.deepcopy(model.linear_1.weight.grad)"
   ]
  },
  {
   "cell_type": "code",
   "execution_count": 75,
   "metadata": {},
   "outputs": [
    {
     "data": {
      "text/plain": [
       "<matplotlib.image.AxesImage at 0x7f0c420c2490>"
      ]
     },
     "execution_count": 75,
     "metadata": {},
     "output_type": "execute_result"
    },
    {
     "data": {
      "image/png": "[encoded data removed]",
      "text/plain": [
       "<Figure size 432x288 with 2 Axes>"
      ]
     },
     "metadata": {
      "needs_background": "light"
     },
     "output_type": "display_data"
    }
   ],
   "source": [
    "fig, (ax1, ax2) = plt.subplots(1, 2)\n",
    "ax1.imshow(out1.detach().view(1, 10))\n",
    "ax2.imshow(out2.detach().view(1, 10))"
   ]
  },
  {
   "cell_type": "code",
   "execution_count": 76,
   "metadata": {},
   "outputs": [
    {
     "data": {
      "text/plain": [
       "(tensor([[3.0773e-02, 8.1441e-05, 4.7908e-02, 1.3386e-06, 3.8451e-03, 6.7996e-05,\n",
       "          9.1697e-01, 1.2310e-04, 1.2872e-04, 1.0529e-04]],\n",
       "        grad_fn=<SoftmaxBackward>),\n",
       " tensor([[9.8737e-03, 4.1096e-06, 2.4713e-03, 4.5151e-03, 6.1128e-07, 2.5778e-02,\n",
       "          7.2495e-08, 9.5603e-01, 1.3736e-04, 1.1936e-03]],\n",
       "        grad_fn=<SoftmaxBackward>))"
      ]
     },
     "execution_count": 76,
     "metadata": {},
     "output_type": "execute_result"
    }
   ],
   "source": [
    "out1, out2"
   ]
  },
  {
   "cell_type": "code",
   "execution_count": 77,
   "metadata": {},
   "outputs": [
    {
     "data": {
      "text/plain": [
       "(False, False)"
      ]
     },
     "execution_count": 77,
     "metadata": {},
     "output_type": "execute_result"
    }
   ],
   "source": [
    "out1 is out2, np.allclose(out1.detach(), out2.detach())"
   ]
  },
  {
   "cell_type": "code",
   "execution_count": 78,
   "metadata": {},
   "outputs": [
    {
     "data": {
      "text/plain": [
       "(False, False)"
      ]
     },
     "execution_count": 78,
     "metadata": {},
     "output_type": "execute_result"
    }
   ],
   "source": [
    "grad1 is grad2, np.allclose(grad1.detach(), grad2.detach())"
   ]
  },
  {
   "cell_type": "code",
   "execution_count": null,
   "metadata": {},
   "outputs": [],
   "source": []
  }
 ],
 "metadata": {
  "kernelspec": {
   "display_name": "Python 3.7.4 64-bit ('vari': conda)",
   "language": "python",
   "name": "python37464bitvariconda4e13f2f659fc4065bce0325784ba2eeb"
  },
  "language_info": {
   "codemirror_mode": {
    "name": "ipython",
    "version": 3
   },
   "file_extension": ".py",
   "mimetype": "text/x-python",
   "name": "python",
   "nbconvert_exporter": "python",
   "pygments_lexer": "ipython3",
   "version": "3.7.4"
  }
 },
 "nbformat": 4,
 "nbformat_minor": 4
}
